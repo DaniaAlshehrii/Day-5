{
  "cells": [
    {
      "cell_type": "markdown",
      "metadata": {
        "id": "wHOhon1GWhYR"
      },
      "source": [
        "# Python_Lab_3 (solution)\n"
      ]
    },
    {
      "cell_type": "markdown",
      "metadata": {
        "id": "kvpc7ug-WhYS"
      },
      "source": [
        "### Task 1\n",
        "- Write a function named **'create_student_records'** that takes a list of tuples. Each tuple contains a student's name and their scores in three subjects. The function should return a list of dictionaries, where each dictionary represents a student with keys: name, subject1, subject2, subject3. Use list comprehension to create the list of dictionaries."
      ]
    },
    {
      "cell_type": "code",
      "execution_count": 3,
      "metadata": {
        "colab": {
          "base_uri": "https://localhost:8080/"
        },
        "id": "3-pGvk6lWhYT",
        "outputId": "197b31c9-c3ee-491b-9a6d-a9f4c9904c57"
      },
      "outputs": [
        {
          "output_type": "stream",
          "name": "stdout",
          "text": [
            "[{'name': 'Alice', 'subject1': 85, 'subject2': 92, 'subject3': 78}, {'name': 'Bob', 'subject1': 90, 'subject2': 88, 'subject3': 95}, {'name': 'Charlie', 'subject1': 70, 'subject2': 75, 'subject3': 80}]\n"
          ]
        }
      ],
      "source": [
        "def create_student_records(students_data):\n",
        "    return [\n",
        "        {\"name\": student[0], \"subject1\": student[1], \"subject2\": student[2], \"subject3\": student[3]}\n",
        "        for student in students_data\n",
        "    ]\n",
        "\n",
        "# Example usage\n",
        "students_data = [(\"Alice\", 85, 92, 78), (\"Bob\", 90, 88, 95), (\"Charlie\", 70, 75, 80)]\n",
        "print(create_student_records(students_data))\n"
      ]
    },
    {
      "cell_type": "markdown",
      "metadata": {
        "id": "HnBd0kcGWhYT"
      },
      "source": [
        "### Task 2\n",
        "- Write a function named **'filter_and_sort_students'** that takes the list of dictionaries from Question 1 and returns a sorted list of student names who have an average score of 80 or more across all subjects. Sort the names in alphabetical order."
      ]
    },
    {
      "cell_type": "code",
      "execution_count": null,
      "metadata": {
        "colab": {
          "base_uri": "https://localhost:8080/"
        },
        "id": "NFEJ6ePKWhYT",
        "outputId": "3d54eae5-6d60-47a2-b157-a3c6a7c8d321"
      },
      "outputs": [
        {
          "output_type": "stream",
          "name": "stdout",
          "text": [
            "['Alice', 'Bob']\n"
          ]
        }
      ],
      "source": [
        "def filter_and_sort_students(student_records):\n",
        "    filtered_students = [\n",
        "        student[\"name\"] for student in student_records\n",
        "        if (student[\"subject1\"] + student[\"subject2\"] + student[\"subject3\"]) / 3 >= 80\n",
        "    ]\n",
        "    return sorted(filtered_students)\n",
        "\n",
        "# Example usage\n",
        "student_records = [\n",
        "    {\"name\": \"Alice\", \"subject1\": 85, \"subject2\": 92, \"subject3\": 78},\n",
        "    {\"name\": \"Bob\", \"subject1\": 90, \"subject2\": 88, \"subject3\": 95},\n",
        "    {\"name\": \"Charlie\", \"subject1\": 70, \"subject2\": 75, \"subject3\": 80}\n",
        "]\n",
        "print(filter_and_sort_students(student_records))\n"
      ]
    },
    {
      "cell_type": "markdown",
      "metadata": {
        "id": "hOg_i6UaWhYU"
      },
      "source": [
        "### Task 3\n",
        "- Write a function named **'get_product_info'** that prompts the user to enter information about a product. The function should ask for the product name, product price, and product quantity. If the user enters an invalid input (e.g., a non-numeric value for the price or quantity), the function should handle the error and prompt the user to enter the value again. Return a dictionary containing the product information."
      ]
    },
    {
      "cell_type": "code",
      "execution_count": null,
      "metadata": {
        "colab": {
          "base_uri": "https://localhost:8080/"
        },
        "id": "Hz5c1gASWhYU",
        "outputId": "bc2925e1-2daf-4d8f-f386-3299900c1567"
      },
      "outputs": [
        {
          "output_type": "stream",
          "name": "stdout",
          "text": [
            "Product Name: salt\n",
            "Product Price: 3\n",
            "Product Quantity: w\n",
            "Invalid input. Please enter numeric values for price and quantity.\n",
            "Product Name: salt\n",
            "Product Price: 3\n",
            "Product Quantity: 1\n",
            "{'name': 'salt', 'price': 3.0, 'quantity': 1}\n"
          ]
        }
      ],
      "source": [
        "def get_product_info():\n",
        "    while True:\n",
        "        try:\n",
        "            name = str(input(\"Product Name: \"))\n",
        "            price = float(input(\"Product Price: \"))\n",
        "            quantity = int(input(\"Product Quantity: \"))\n",
        "            break\n",
        "        except ValueError:\n",
        "            print(\"Invalid input. Please enter numeric values for price and quantity.\")\n",
        "\n",
        "    product_info = {\n",
        "        'name': name,\n",
        "        'price': price,\n",
        "        'quantity': quantity\n",
        "    }\n",
        "    return product_info\n",
        "\n",
        "# Example usage\n",
        "print(get_product_info())\n"
      ]
    },
    {
      "cell_type": "markdown",
      "metadata": {
        "id": "fFBhtWncWhYU"
      },
      "source": [
        "### Task 4\n",
        "- Write a function named **'get_even_numbers'** that takes a list of integers and returns a list of even numbers using list comprehension."
      ]
    },
    {
      "cell_type": "code",
      "execution_count": null,
      "metadata": {
        "colab": {
          "base_uri": "https://localhost:8080/"
        },
        "id": "sJAf0hIkWhYU",
        "outputId": "a767c985-805d-4a81-a980-cd646ee141f0"
      },
      "outputs": [
        {
          "output_type": "stream",
          "name": "stdout",
          "text": [
            "[2, 4, 6]\n"
          ]
        }
      ],
      "source": [
        "def get_even_numbers(numbers):\n",
        "    return [number for number in numbers if number % 2 == 0]\n",
        "\n",
        "# Example usage\n",
        "print(get_even_numbers([1, 2, 3, 4, 5, 6]))\n"
      ]
    },
    {
      "cell_type": "markdown",
      "metadata": {
        "id": "R967RIiQWhYU"
      },
      "source": [
        "### Task 5\n",
        "- Write a function named **'pair_elements'** that takes two lists of equal length as parameters and returns a list of tuples, where each tuple contains corresponding elements from the two lists. Use the zip function to achieve this."
      ]
    },
    {
      "cell_type": "code",
      "execution_count": null,
      "metadata": {
        "colab": {
          "base_uri": "https://localhost:8080/"
        },
        "id": "eM5vG7ZKWhYU",
        "outputId": "255df6b5-9210-4a53-db01-efb72734705b"
      },
      "outputs": [
        {
          "output_type": "stream",
          "name": "stdout",
          "text": [
            "[(1, 'a'), (2, 'b'), (3, 'c'), (4, 'd')]\n"
          ]
        }
      ],
      "source": [
        "def pair_elements(list1, list2):\n",
        "    paired_elements = list(zip(list1, list2))\n",
        "    return paired_elements\n",
        "\n",
        "# Example usage\n",
        "list1 = [1, 2, 3, 4]\n",
        "list2 = ['a', 'b', 'c', 'd']\n",
        "\n",
        "print(pair_elements(list1, list2))"
      ]
    },
    {
      "cell_type": "markdown",
      "metadata": {
        "id": "QsPMagfoWhYU"
      },
      "source": [
        "### Task 6\n",
        "- Write a function named **'square_dict_lambda'** that takes a list of integers and returns a dictionary where the keys are the integers and the values are their squares. Use a lambda function within a dictionary comprehension to achieve this."
      ]
    },
    {
      "cell_type": "code",
      "execution_count": null,
      "metadata": {
        "colab": {
          "base_uri": "https://localhost:8080/"
        },
        "id": "ukcYy5B5WhYV",
        "outputId": "6d41fb29-36ed-4a2c-eb0c-1f2a2fc6ddf8"
      },
      "outputs": [
        {
          "output_type": "stream",
          "name": "stdout",
          "text": [
            "{1: 1, 2: 4, 3: 9}\n"
          ]
        }
      ],
      "source": [
        "def square_dict_lambda(numbers):\n",
        "    square_dict = {num: (lambda x: x**2)(num) for num in numbers}\n",
        "    return square_dict\n",
        "\n",
        "# Example usage\n",
        "print(square_dict_lambda([1, 2, 3]))\n"
      ]
    },
    {
      "cell_type": "code",
      "source": [],
      "metadata": {
        "id": "4sK9ydSpVo35"
      },
      "execution_count": null,
      "outputs": []
    }
  ],
  "metadata": {
    "kernelspec": {
      "display_name": "Python 3",
      "language": "python",
      "name": "python3"
    },
    "language_info": {
      "codemirror_mode": {
        "name": "ipython",
        "version": 3
      },
      "file_extension": ".py",
      "mimetype": "text/x-python",
      "name": "python",
      "nbconvert_exporter": "python",
      "pygments_lexer": "ipython3",
      "version": "3.9.12"
    },
    "colab": {
      "provenance": []
    }
  },
  "nbformat": 4,
  "nbformat_minor": 0
}